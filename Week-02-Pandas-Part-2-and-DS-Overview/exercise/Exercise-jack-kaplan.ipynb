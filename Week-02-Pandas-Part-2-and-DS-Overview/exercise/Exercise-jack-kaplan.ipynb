{
 "cells": [
  {
   "cell_type": "markdown",
   "metadata": {},
   "source": [
    "# Fall 2024 Data Science Track: Week 2 - Data Cleaning Exercise"
   ]
  },
  {
   "cell_type": "markdown",
   "metadata": {},
   "source": [
    "## Packages, Packages, Packages!\n",
    "\n",
    "Import *all* the things here! You need the standard stuff: `pandas` and `numpy`.\n",
    "\n",
    "If you got more stuff you want to use, add them here too. 🙂"
   ]
  },
  {
   "cell_type": "code",
   "execution_count": 137,
   "metadata": {},
   "outputs": [],
   "source": [
    "# Import here.\n",
    "import re\n",
    "import os\n",
    "import pandas as pd\n",
    "import numpy as np\n",
    "import matplotlib.pyplot as plt\n",
    "import pycountry\n",
    "from joblib import Parallel, delayed"
   ]
  },
  {
   "cell_type": "markdown",
   "metadata": {},
   "source": [
    "## Introduction\n",
    "\n",
    "With the packages out of the way, now you will be working with the following data sets:\n",
    "\n",
    "* `food_coded.csv`: [Food choices](https://www.kaggle.com/datasets/borapajo/food-choices?select=food_coded.csv) from Kaggle\n",
    "* `Ask A Manager Salary Survey 2021 (Responses) - Form Responses 1.tsv`: [Ask A Manager Salary Survey 2021 (Responses)](https://docs.google.com/spreadsheets/d/1IPS5dBSGtwYVbjsfbaMCYIWnOuRmJcbequohNxCyGVw/view?&gid=1625408792) as *Tab Separated Values (.tsv)* from Google Docs\n",
    "\n",
    "Each one poses different challenges. But you’ll―of course―overcome them with what you learned in class! 😉"
   ]
  },
  {
   "cell_type": "markdown",
   "metadata": {},
   "source": [
    "## Food Choices Data Set"
   ]
  },
  {
   "cell_type": "markdown",
   "metadata": {},
   "source": [
    "### Load the Data"
   ]
  },
  {
   "cell_type": "code",
   "execution_count": 20,
   "metadata": {},
   "outputs": [],
   "source": [
    "# Load the Food choices data set into a variable (e.g., df_food).\n",
    "\n",
    "food_data_set_path = '../data/food_coded.csv'\n",
    "\n",
    "df_food = pd.read_csv(food_data_set_path)"
   ]
  },
  {
   "cell_type": "markdown",
   "metadata": {},
   "source": [
    "### Explore the Data"
   ]
  },
  {
   "cell_type": "markdown",
   "metadata": {},
   "source": [
    "How much data did you just load?"
   ]
  },
  {
   "cell_type": "code",
   "execution_count": 21,
   "metadata": {},
   "outputs": [
    {
     "name": "stdout",
     "output_type": "stream",
     "text": [
      "(125, 61)\n"
     ]
    }
   ],
   "source": [
    "# Count by hand. (lol kidding)\n",
    "\n",
    "print(df_food.shape)"
   ]
  },
  {
   "cell_type": "markdown",
   "metadata": {},
   "source": [
    "What are the columns and their types in this data set?"
   ]
  },
  {
   "cell_type": "code",
   "execution_count": 22,
   "metadata": {},
   "outputs": [
    {
     "name": "stdout",
     "output_type": "stream",
     "text": [
      "GPA                  object\n",
      "Gender                int64\n",
      "breakfast             int64\n",
      "calories_chicken      int64\n",
      "calories_day        float64\n",
      "                     ...   \n",
      "type_sports          object\n",
      "veggies_day           int64\n",
      "vitamins              int64\n",
      "waffle_calories       int64\n",
      "weight               object\n",
      "Length: 61, dtype: object\n"
     ]
    }
   ],
   "source": [
    "# Show the column names and their types.\n",
    "\n",
    "print(df_food.dtypes)"
   ]
  },
  {
   "cell_type": "markdown",
   "metadata": {},
   "source": [
    "### Clean the Data\n",
    "\n",
    "Perhaps we’d like to know more another day, but the team is really interested in just the relationship between calories (`calories_day`) and weight. …and maybe gender."
   ]
  },
  {
   "cell_type": "markdown",
   "metadata": {},
   "source": [
    "Can you remove the other columns?"
   ]
  },
  {
   "cell_type": "code",
   "execution_count": 23,
   "metadata": {},
   "outputs": [],
   "source": [
    "# Remove ‘em.\n",
    "\n",
    "# Removing all columns but 'calories_day' and 'weight' from df_food\n",
    "\n",
    "df_food = df_food[['calories_day', 'weight']]"
   ]
  },
  {
   "cell_type": "markdown",
   "metadata": {},
   "source": [
    "What about `NaN`s? How many are there?"
   ]
  },
  {
   "cell_type": "code",
   "execution_count": 24,
   "metadata": {},
   "outputs": [
    {
     "name": "stdout",
     "output_type": "stream",
     "text": [
      "calories_day    19\n",
      "weight           2\n",
      "dtype: int64\n"
     ]
    }
   ],
   "source": [
    "# Count ‘em.\n",
    "\n",
    "# How many NaN values are in each column?\n",
    "\n",
    "print(df_food.isna().sum())"
   ]
  },
  {
   "cell_type": "markdown",
   "metadata": {},
   "source": [
    "We gotta remove those `NaN`s―the entire row."
   ]
  },
  {
   "cell_type": "code",
   "execution_count": 25,
   "metadata": {},
   "outputs": [],
   "source": [
    "# Drop ‘em.\n",
    "\n",
    "df_food = df_food.dropna()"
   ]
  },
  {
   "cell_type": "markdown",
   "metadata": {},
   "source": [
    "But what about the weird non-numeric values in the column obviously meant for numeric data?\n",
    "\n",
    "Notice the data type of that column from when you got the types of all the columns?\n",
    "\n",
    "If only we could convert the column to a numeric type and drop the rows with invalid values. 🤔"
   ]
  },
  {
   "cell_type": "code",
   "execution_count": 17,
   "metadata": {},
   "outputs": [],
   "source": [
    "# Converting non-numeric columns to numeric\n",
    "\n",
    "df_food = df_food.apply(pd.to_numeric, errors='coerce')\n"
   ]
  },
  {
   "cell_type": "markdown",
   "metadata": {},
   "source": [
    "Now this data seems reasonably clean for our purposes! 😁\n",
    "\n",
    "Let’s save it somewhere to be shipped off to another teammate. 💾"
   ]
  },
  {
   "cell_type": "code",
   "execution_count": 26,
   "metadata": {},
   "outputs": [],
   "source": [
    "# Saving cleaned data to new CSV file\n",
    "\n",
    "df_food.to_csv('../data/cleaned_food_coded.csv', index=False)"
   ]
  },
  {
   "cell_type": "markdown",
   "metadata": {},
   "source": [
    "## Ask a Manager Salary Survey 2021 (Responses) Data Set"
   ]
  },
  {
   "cell_type": "markdown",
   "metadata": {},
   "source": [
    "### Load the Data"
   ]
  },
  {
   "cell_type": "code",
   "execution_count": 27,
   "metadata": {},
   "outputs": [],
   "source": [
    "# Load the Ask A Manager Salary Survey 2021 (Responses) data set into a variable (e.g., df_salary).\n",
    "\n",
    "\n",
    "ask_manager_path = r'../data/Ask A Manager Salary Survey 2021 (Responses) - Form Responses 1.tsv'\n",
    "\n",
    "df_ask_manager = pd.read_csv(ask_manager_path, sep='\\t')"
   ]
  },
  {
   "cell_type": "markdown",
   "metadata": {},
   "source": [
    "Was that hard? 🙃"
   ]
  },
  {
   "cell_type": "markdown",
   "metadata": {},
   "source": [
    "#### rename the file to something that is better for all systems.  \n",
    "* No spaces in filename (can use '_')\n",
    "* all lower case"
   ]
  },
  {
   "cell_type": "code",
   "execution_count": 31,
   "metadata": {},
   "outputs": [],
   "source": [
    "# Renaming the file\n",
    "\n",
    "# os.rename(ask_manager_path, r'../data/ask_a_manager_salary_survey_2021.tsv')\n",
    "\n",
    "ask_manager_path = r'../data/ask_a_manager_salary_survey_2021.tsv'\n",
    "df_ask_manager = pd.read_csv(ask_manager_path, sep='\\t')\n"
   ]
  },
  {
   "cell_type": "markdown",
   "metadata": {},
   "source": [
    "### Explore\n",
    "\n",
    "You know the drill."
   ]
  },
  {
   "cell_type": "markdown",
   "metadata": {},
   "source": [
    "How much data did you just load?"
   ]
  },
  {
   "cell_type": "code",
   "execution_count": 32,
   "metadata": {},
   "outputs": [
    {
     "data": {
      "text/plain": [
       "(28062, 18)"
      ]
     },
     "execution_count": 32,
     "metadata": {},
     "output_type": "execute_result"
    }
   ],
   "source": [
    "# Count by hand. I’m dead serious.\n",
    "\n",
    "df_ask_manager.shape"
   ]
  },
  {
   "cell_type": "markdown",
   "metadata": {},
   "source": [
    "What are the columns and their types?"
   ]
  },
  {
   "cell_type": "code",
   "execution_count": 33,
   "metadata": {},
   "outputs": [
    {
     "data": {
      "text/plain": [
       "Timestamp                                                                                                                                                                                                                                object\n",
       "How old are you?                                                                                                                                                                                                                         object\n",
       "What industry do you work in?                                                                                                                                                                                                            object\n",
       "Job title                                                                                                                                                                                                                                object\n",
       "If your job title needs additional context, please clarify here:                                                                                                                                                                         object\n",
       "What is your annual salary? (You'll indicate the currency in a later question. If you are part-time or hourly, please enter an annualized equivalent -- what you would earn if you worked the job 40 hours a week, 52 weeks a year.)     object\n",
       "How much additional monetary compensation do you get, if any (for example, bonuses or overtime in an average year)? Please only include monetary compensation here, not the value of benefits.                                          float64\n",
       "Please indicate the currency                                                                                                                                                                                                             object\n",
       "If \"Other,\" please indicate the currency here:                                                                                                                                                                                           object\n",
       "If your income needs additional context, please provide it here:                                                                                                                                                                         object\n",
       "What country do you work in?                                                                                                                                                                                                             object\n",
       "If you're in the U.S., what state do you work in?                                                                                                                                                                                        object\n",
       "What city do you work in?                                                                                                                                                                                                                object\n",
       "How many years of professional work experience do you have overall?                                                                                                                                                                      object\n",
       "How many years of professional work experience do you have in your field?                                                                                                                                                                object\n",
       "What is your highest level of education completed?                                                                                                                                                                                       object\n",
       "What is your gender?                                                                                                                                                                                                                     object\n",
       "What is your race? (Choose all that apply.)                                                                                                                                                                                              object\n",
       "dtype: object"
      ]
     },
     "execution_count": 33,
     "metadata": {},
     "output_type": "execute_result"
    }
   ],
   "source": [
    "# Show the column names and their types.\n",
    "\n",
    "df_ask_manager.dtypes"
   ]
  },
  {
   "cell_type": "markdown",
   "metadata": {},
   "source": [
    "Oh… Ugh! Give these columns easier names to work with first. 🙄"
   ]
  },
  {
   "cell_type": "code",
   "execution_count": 47,
   "metadata": {},
   "outputs": [
    {
     "data": {
      "text/plain": [
       "timestamp                       object\n",
       "age                             object\n",
       "industry                        object\n",
       "title                           object\n",
       "title_context                   object\n",
       "salary                          object\n",
       "additional_compensation        float64\n",
       "currency                        object\n",
       "other_currency                  object\n",
       "salary_context                  object\n",
       "country                         object\n",
       "state                           object\n",
       "city                            object\n",
       "total_yoe                       object\n",
       "field_yoe                       object\n",
       "highest_education_completed     object\n",
       "gender                          object\n",
       "race                            object\n",
       "dtype: object"
      ]
     },
     "execution_count": 47,
     "metadata": {},
     "output_type": "execute_result"
    }
   ],
   "source": [
    "# Rename ‘em.\n",
    "# Non-binding suggestions: timestamp, age, industry, title, title_context, salary, additional_compensation, currency, other_currency, salary_context, country, state, city, total_yoe, field_yoe, highest_education_completed\tgender, race\n",
    "\n",
    "# Rename ‘em.\n",
    "column_map = {\n",
    "    'Timestamp': 'timestamp',\n",
    "    'How old are you?': 'age',\n",
    "    'What industry do you work in?': 'industry',\n",
    "    'Job title': 'title',\n",
    "    'If your job title needs additional context, please clarify here:': 'title_context',\n",
    "    \"What is your annual salary? (You'll indicate the currency in a later question. If you are part-time or hourly, please enter an annualized equivalent -- what you would earn if you worked the job 40 hours a week, 52 weeks a year.)\": 'salary',\n",
    "    'How much additional monetary compensation do you get, if any (for example, bonuses or overtime in an average year)? Please only include monetary compensation here, not the value of benefits.': 'additional_compensation',\n",
    "    'Please indicate the currency': 'currency',\n",
    "    'If \"Other,\" please indicate the currency here: ': 'other_currency',\n",
    "    'If your income needs additional context, please provide it here:': 'salary_context',\n",
    "    'What country do you work in?': 'country',\n",
    "    \"If you're in the U.S., what state do you work in?\": 'state',\n",
    "    'What city do you work in?': 'city',\n",
    "    'How many years of professional work experience do you have overall?': 'total_yoe',\n",
    "    'How many years of professional work experience do you have in your field?': 'field_yoe',\n",
    "    'What is your highest level of education completed?': 'highest_education_completed',\n",
    "    'What is your gender?': 'gender',\n",
    "    'What is your race? (Choose all that apply.)': 'race'\n",
    "}\n",
    "\n",
    "df_ask_manager = df_ask_manager.rename(columns=column_map)\n",
    "\n",
    "df_ask_manager.dtypes                                                                                                                                                                             "
   ]
  },
  {
   "cell_type": "markdown",
   "metadata": {},
   "source": [
    "It’s a lot, and that should not have been easy. 😏"
   ]
  },
  {
   "cell_type": "markdown",
   "metadata": {},
   "source": [
    "You’re going to have a gander at the computing/tech subset first because thats *your* industry. But first, what value corresponds to that `industry`?"
   ]
  },
  {
   "cell_type": "code",
   "execution_count": 107,
   "metadata": {},
   "outputs": [
    {
     "data": {
      "text/plain": [
       "industry\n",
       "Computing or Tech                       4699\n",
       "Education (Higher Education)            2464\n",
       "Nonprofits                              2419\n",
       "Health care                             1896\n",
       "Government and Public Administration    1889\n",
       "                                        ... \n",
       "e-commerce                                 1\n",
       "Graduate Student                           1\n",
       "Obligatory Military service                1\n",
       "Landscape Architecture                     1\n",
       "Edtech                                     1\n",
       "Name: count, Length: 1219, dtype: int64"
      ]
     },
     "execution_count": 107,
     "metadata": {},
     "output_type": "execute_result"
    }
   ],
   "source": [
    "# List the unique industries and a count of their instances.\n",
    "\n",
    "df_ask_manager['industry'].value_counts()"
   ]
  },
  {
   "cell_type": "markdown",
   "metadata": {},
   "source": [
    "That value among the top 5 is what you’re looking for innit? Filter out all the rows not in that industry and save it into a new dataframe. "
   ]
  },
  {
   "cell_type": "code",
   "execution_count": 126,
   "metadata": {},
   "outputs": [],
   "source": [
    "# Filtery filter. (Save it to a new variable, df_salary_tech.)\n",
    "\n",
    "df_salary_tech = df_ask_manager[df_ask_manager['industry'] == 'Computing or Tech']"
   ]
  },
  {
   "cell_type": "markdown",
   "metadata": {},
   "source": [
    "Do a sanity check to make sure that the only values you kept are the one you are filtered for.  "
   ]
  },
  {
   "cell_type": "code",
   "execution_count": 127,
   "metadata": {},
   "outputs": [
    {
     "data": {
      "text/plain": [
       "(4699, 18)"
      ]
     },
     "execution_count": 127,
     "metadata": {},
     "output_type": "execute_result"
    }
   ],
   "source": [
    "# Sanity Check \n",
    "\n",
    "df_salary_tech.shape\n"
   ]
  },
  {
   "cell_type": "markdown",
   "metadata": {},
   "source": [
    "We are very interested in salary figures. But how many dollars 💵 is a euro 💶 or a pound 💷? That sounds like a problem for another day. 🫠\n",
    "\n",
    "For now, let’s just look at U.S. dollars (`'USD'`)."
   ]
  },
  {
   "cell_type": "code",
   "execution_count": 128,
   "metadata": {},
   "outputs": [
    {
     "data": {
      "text/plain": [
       "(3777, 18)"
      ]
     },
     "execution_count": 128,
     "metadata": {},
     "output_type": "execute_result"
    }
   ],
   "source": [
    "# Filtery filter for just the jobs that pay in USD!\n",
    "\n",
    "df_salary_tech = df_salary_tech[df_salary_tech['currency'] == 'USD']\n",
    "\n",
    "df_salary_tech.shape"
   ]
  },
  {
   "cell_type": "markdown",
   "metadata": {},
   "source": [
    "What we really want know is how each U.S. city pays in tech. What value in `country` represents the United States of America?"
   ]
  },
  {
   "cell_type": "code",
   "execution_count": 129,
   "metadata": {},
   "outputs": [
    {
     "data": {
      "text/plain": [
       "country\n",
       "United States               1576\n",
       "USA                         1222\n",
       "US                           412\n",
       "U.S.                         108\n",
       "United States of America      90\n",
       "                            ... \n",
       "Ghana                          1\n",
       "Nigeria                        1\n",
       "ss                             1\n",
       "Nigeria                        1\n",
       "Burma                          1\n",
       "Name: count, Length: 76, dtype: int64"
      ]
     },
     "execution_count": 129,
     "metadata": {},
     "output_type": "execute_result"
    }
   ],
   "source": [
    "# We did filter for USD, so if we do a count of each unique country in descending count order, the relevant value(s) should show up at the top.\n",
    "\n",
    "df_salary_tech['country'].value_counts()"
   ]
  },
  {
   "cell_type": "markdown",
   "metadata": {},
   "source": [
    "### Clean the Data\n",
    "\n",
    "Well, we can’t get our answers with what we currently have, so you’ll have to make some changes."
   ]
  },
  {
   "cell_type": "markdown",
   "metadata": {},
   "source": [
    "Let’s not worry about anything below the first 5 values for now. Convert the top 5 to a single canonical value―say, `'US'`, which is nice and short."
   ]
  },
  {
   "cell_type": "code",
   "execution_count": 152,
   "metadata": {},
   "outputs": [],
   "source": [
    "# Replace them all with 'US'.\n",
    "\n",
    "def fuzzy_country(name):\n",
    "    try: \n",
    "        return pycountry.countries.search_fuzzy(str(name).strip())[0].name\n",
    "    except: \n",
    "        return name\n",
    "\n",
    "df_salary_tech_clean = df_salary_tech.copy()\n",
    "df_salary_tech_clean['country'] = Parallel(n_jobs=16)(\n",
    "    delayed(fuzzy_country)(name) for name in df_salary_tech_clean['country']\n",
    ")\n",
    "\n",
    "us_variants = [\n",
    "    'United States', \n",
    "    'Virgin Islands, U.S.', \n",
    "    'U.S.A.',\n",
    "    'U.S.A',\n",
    "    'UnitedStates',\n",
    "    'Unite States', \n",
    "    'United State of America',\n",
    "]\n",
    "\n",
    "# Convert all US variants to 'US'\n",
    "df_salary_tech_clean['country'] = df_salary_tech_clean['country'].apply(\n",
    "    lambda x: 'US' if x in us_variants else x\n",
    ")\n"
   ]
  },
  {
   "cell_type": "markdown",
   "metadata": {},
   "source": [
    "Have a look at the count of each unique country again now."
   ]
  },
  {
   "cell_type": "code",
   "execution_count": 153,
   "metadata": {},
   "outputs": [
    {
     "data": {
      "text/plain": [
       "country\n",
       "US                      3716\n",
       "Canada                     5\n",
       "Israel                     5\n",
       "Denmark                    3\n",
       "Australia                  3\n",
       "Singapore                  2\n",
       "Spain                      2\n",
       "India                      2\n",
       "Poland                     2\n",
       "Nigeria                    2\n",
       "France                     2\n",
       "United Kingdom             2\n",
       "Brazil                     2\n",
       "New Zealand                2\n",
       "Uniyed states              1\n",
       "American Samoa             1\n",
       "Puerto Rico                1\n",
       "Italy                      1\n",
       "Cuba                       1\n",
       "Uruguay                    1\n",
       "Remote (philippines)       1\n",
       "United Stateds             1\n",
       "Mexico                     1\n",
       "International              1\n",
       "United Stated              1\n",
       "Philippines                1\n",
       "Pakistan                   1\n",
       "China                      1\n",
       "Netherlands                1\n",
       "Romania                    1\n",
       "Japan                      1\n",
       "United Stares              1\n",
       "San Francisco              1\n",
       "Jamaica                    1\n",
       "Unites States              1\n",
       "U.S.A                      1\n",
       "Thailand                   1\n",
       "Colombia                   1\n",
       "Ghana                      1\n",
       "South Sudan                1\n",
       "Burma                      1\n",
       "Name: count, dtype: int64"
      ]
     },
     "execution_count": 153,
     "metadata": {},
     "output_type": "execute_result"
    }
   ],
   "source": [
    "# Count again.\n",
    "\n",
    "df_salary_tech_clean['country'].value_counts()"
   ]
  },
  {
   "cell_type": "markdown",
   "metadata": {},
   "source": [
    "Did you notice anything interesting?"
   ]
  },
  {
   "cell_type": "code",
   "execution_count": null,
   "metadata": {},
   "outputs": [],
   "source": [
    "# BONUS CREDIT: resolve [most of] those anomalous cases too without exhaustively taking every variant literally into account.\n",
    "\n",
    "# Did that with fuzzy_country function above as my solution."
   ]
  },
  {
   "cell_type": "code",
   "execution_count": null,
   "metadata": {},
   "outputs": [],
   "source": [
    "\n",
    "# BONUS CREDIT: if you’ve resolved it, let’s see how well you did by counting the number of instances of each unique value.\n",
    "\n",
    "# Pretty well, see above."
   ]
  },
  {
   "cell_type": "markdown",
   "metadata": {},
   "source": [
    "It’s looking good so far. Let’s find out the minimum, mean, and maximum (in that order) salary by state, sorted by the mean in descending order."
   ]
  },
  {
   "cell_type": "code",
   "execution_count": 167,
   "metadata": {},
   "outputs": [
    {
     "name": "stdout",
     "output_type": "stream",
     "text": [
      "US rows with valid salary data: 1016\n",
      "States with at least 1 entries: 52\n",
      "                                count       min           mean        max\n",
      "state                                                                    \n",
      "Michigan, Texas, Washington         1  340000.0  340000.000000   340000.0\n",
      "Florida                            23   28800.0  210711.000000  2600000.0\n",
      "California, Oregon                  1  200000.0  200000.000000   200000.0\n",
      "California, Colorado                1  176000.0  176000.000000   176000.0\n",
      "Delaware                            1  169000.0  169000.000000   169000.0\n",
      "Connecticut                         5   68000.0  161610.000000   270000.0\n",
      "California                        176     240.0  155504.380682   520000.0\n",
      "New York                          106   14000.0  147269.528302   590000.0\n",
      "Wisconsin                          27       1.0  145806.888889   920000.0\n",
      "District of Columbia               13   59000.0  142923.076923   200000.0\n",
      "New Jersey, New York                2  135000.0  137500.000000   140000.0\n",
      "Ohio                               18   42000.0  137066.666667   954000.0\n",
      "Washington                         72      72.0  136923.916667   300000.0\n",
      "Massachusetts                      77   41000.0  125899.155844   400000.0\n",
      "Nevada                              2  107100.0  124550.000000   142000.0\n",
      "New Jersey                         11   67500.0  124090.909091   192000.0\n",
      "Oregon                             45   16200.0  122640.000000   230000.0\n",
      "West Virginia                       1  120000.0  120000.000000   120000.0\n",
      "Maryland                           13   62000.0  119955.461538   176000.0\n",
      "Illinois                           35   36000.0  117555.571429   228800.0\n",
      "Alabama                             5   35000.0  117400.000000   350000.0\n",
      "Louisiana, Washington               1  117000.0  117000.000000   117000.0\n",
      "Pennsylvania                       36   52000.0  116826.388889   237000.0\n",
      "Georgia                            34   29120.0  115297.647059   242000.0\n",
      "Virginia                           33   58750.0  115086.696970   378000.0\n",
      "Montana                             3   65000.0  112666.666667   145000.0\n",
      "Kansas                              6   41500.0  109666.666667   167000.0\n",
      "Colorado                           37   49400.0  109291.891892   165000.0\n",
      "District of Columbia, Virginia      1  109200.0  109200.000000   109200.0\n",
      "Vermont                             2   91250.0  105625.000000   120000.0\n",
      "Idaho                               4   74860.0  105465.000000   170000.0\n",
      "Utah                               12   33280.0  105023.333333   176000.0\n",
      "Maine                               6   50000.0  103833.333333   173000.0\n",
      "Texas                              61   10700.0  103685.245902   190000.0\n",
      "Kentucky                            4   62000.0  102500.000000   125000.0\n",
      "Iowa                                5   63000.0  101200.000000   142000.0\n",
      "Minnesota                          17   52124.0  101064.941176   210000.0\n",
      "Rhode Island                        2   76000.0   99475.000000   122950.0\n",
      "Michigan                           16   41600.0   98618.750000   235000.0\n",
      "North Carolina                     30   29000.0   97841.666667   165000.0\n",
      "Arizona                            12   35000.0   97833.333333   145000.0\n",
      "New Mexico                          3   82000.0   95733.333333   115200.0\n",
      "Tennessee                           6   61500.0   91750.000000   144000.0\n",
      "New Hampshire                       6      55.0   87175.833333   130000.0\n",
      "Oklahoma                            7   36958.0   84802.571429   180000.0\n",
      "Indiana                             8   15000.0   82875.000000   140000.0\n",
      "California, Maryland                1   81500.0   81500.000000    81500.0\n",
      "Louisiana                           3   75000.0   80500.000000    84000.0\n",
      "Missouri                           13      80.0   80339.923077   200000.0\n",
      "Arkansas                            3   60000.0   77333.333333    95000.0\n",
      "Nebraska                            5   43000.0   76736.000000   140000.0\n",
      "South Carolina                      1   40000.0   40000.000000    40000.0\n"
     ]
    }
   ],
   "source": [
    "# Find the minimum, mean, and maximum salary in USD by U.S. state.\n",
    "\n",
    "# US salary data by state (min 1 entries)\n",
    "df_usa_salary = df_salary_tech_clean[(df_salary_tech_clean['country'] == 'US') & \n",
    "                                    (df_salary_tech_clean['salary'] > 0)]\n",
    "\n",
    "df_state_stats = (df_usa_salary.groupby('state')['salary']\n",
    "                 .agg(['count', 'min', 'mean', 'max'])\n",
    "                 .query('count >= 1')\n",
    "                 .sort_values('mean', ascending=False))\n",
    "\n",
    "print(f\"US rows with valid salary data: {len(df_usa_salary)}\")\n",
    "valid_states = df_state_stats.index.tolist()\n",
    "print(f\"States with at least 1 entries: {len(valid_states)}\")\n",
    "print(df_state_stats)"
   ]
  },
  {
   "cell_type": "markdown",
   "metadata": {},
   "source": [
    "Well, pooh! We forgot that `salary` isn’t numeric. Something wrong must be fixed."
   ]
  },
  {
   "cell_type": "code",
   "execution_count": null,
   "metadata": {},
   "outputs": [],
   "source": [
    "# Fix it.\n",
    "\n"
   ]
  },
  {
   "cell_type": "markdown",
   "metadata": {},
   "source": [
    "Let’s try that again."
   ]
  },
  {
   "cell_type": "code",
   "execution_count": null,
   "metadata": {},
   "outputs": [],
   "source": [
    "# Try it again. Yeah!\n",
    "\n"
   ]
  },
  {
   "cell_type": "markdown",
   "metadata": {},
   "source": [
    "That did the trick! Now let’s narrow this to data 2021 and 2022 just because (lel). *(Hint: that timestamp column may not be a temporal type right now.)*"
   ]
  },
  {
   "cell_type": "code",
   "execution_count": 172,
   "metadata": {},
   "outputs": [
    {
     "name": "stdout",
     "output_type": "stream",
     "text": [
      "US rows with valid salary data (2021-2022): 995\n",
      "Year distribution: {2021: 956, 2022: 39}\n",
      "\n",
      "2021 Results:\n",
      "States in 2021: 50\n",
      "                      count       min           mean       max\n",
      "state                                                         \n",
      "California, Oregon        1  200000.0  200000.000000  200000.0\n",
      "California, Colorado      1  176000.0  176000.000000  176000.0\n",
      "Delaware                  1  169000.0  169000.000000  169000.0\n",
      "Connecticut               5   68000.0  161610.000000  270000.0\n",
      "California              168     240.0  156073.517857  520000.0\n",
      "Wisconsin                24       1.0  152792.750000  920000.0\n",
      "New York                100   45000.0  144839.700000  285000.0\n",
      "District of Columbia     13   59000.0  142923.076923  200000.0\n",
      "Ohio                     17   42000.0  141894.117647  954000.0\n",
      "Washington               67      72.0  138916.000000  300000.0\n",
      "\n",
      "2022 Results:\n",
      "States in 2022: 17\n",
      "                             count       min           mean       max\n",
      "state                                                                \n",
      "Michigan, Texas, Washington      1  340000.0  340000.000000  340000.0\n",
      "New York                         5   14000.0  212320.000000  590000.0\n",
      "Kansas                           1  167000.0  167000.000000  167000.0\n",
      "California                       7  111000.0  154060.000000  210000.0\n",
      "Utah                             1  139000.0  139000.000000  139000.0\n",
      "Oregon                           1  120000.0  120000.000000  120000.0\n",
      "Illinois                         3   87000.0  116333.333333  132000.0\n",
      "Georgia                          3   91000.0  113333.333333  125000.0\n",
      "Massachusetts                    2   72000.0  112500.000000  153000.0\n",
      "Washington                       4   70000.0  112500.000000  168000.0\n"
     ]
    }
   ],
   "source": [
    "# Find the minimum, mean, and maximum salary in USD by U.S. state for 2021 and 2022\n",
    "df_salary_tech_clean['timestamp'] = pd.to_datetime(df_salary_tech_clean['timestamp'])\n",
    "\n",
    "# Create a copy to avoid the warning\n",
    "df_usa_salary = df_salary_tech_clean[\n",
    "  (df_salary_tech_clean['country'] == 'US') & \n",
    "  (df_salary_tech_clean['salary'] > 0) &\n",
    "  (df_salary_tech_clean['timestamp'].dt.year.isin([2021, 2022]))\n",
    "].copy()\n",
    "\n",
    "# Now safe to add the year column\n",
    "df_usa_salary['year'] = df_usa_salary['timestamp'].dt.year\n",
    "\n",
    "df_state_stats_by_year = (df_usa_salary.groupby(['year', 'state'])['salary']\n",
    "                       .agg(['count', 'min', 'mean', 'max'])\n",
    "                       .query('count >= 1')\n",
    "                       .sort_values(['year', 'mean'], ascending=[True, False]))\n",
    "\n",
    "print(f\"US rows with valid salary data (2021-2022): {len(df_usa_salary)}\")\n",
    "print(f\"Year distribution: {df_usa_salary['year'].value_counts().sort_index().to_dict()}\")\n",
    "\n",
    "print(\"\\n2021 Results:\")\n",
    "df_2021 = df_state_stats_by_year.xs(2021, level='year')\n",
    "print(f\"States in 2021: {len(df_2021)}\")\n",
    "print(df_2021.head(10))\n",
    "\n",
    "print(\"\\n2022 Results:\")\n",
    "df_2022 = df_state_stats_by_year.xs(2022, level='year')\n",
    "print(f\"States in 2022: {len(df_2022)}\")\n",
    "print(df_2022.head(10))"
   ]
  },
  {
   "cell_type": "markdown",
   "metadata": {},
   "source": [
    "## Bonus\n",
    "\n",
    "Clearly, we do not have enough data to produce useful figures for the level of specificity you’ve now reached. What do you notice about Delaware and West Virginia?\n",
    "\n",
    "Let’s back out a bit and return to `df_salary` (which was the loaded data with renamed columns but *sans* filtering)."
   ]
  },
  {
   "cell_type": "markdown",
   "metadata": {},
   "source": [
    "### Bonus #0\n",
    "\n",
    "Apply the same steps as before to `df_salary`, but do not filter for any specific industry. Do perform the other data cleaning stuff, and get to a point where you can generate the minimum, mean, and maximum by state."
   ]
  },
  {
   "cell_type": "code",
   "execution_count": null,
   "metadata": {},
   "outputs": [],
   "source": []
  },
  {
   "cell_type": "markdown",
   "metadata": {},
   "source": [
    "### Bonus #1\n",
    "\n",
    "This time, format the table output nicely (*$12,345.00*) without modifying the values in the `DataFrame`. That is, `df_salary` should be identical before versus after running your code.\n",
    "\n",
    "(*Hint: if you run into an error about `jinja2` perhaps you need to `pip install` something.*)"
   ]
  },
  {
   "cell_type": "code",
   "execution_count": null,
   "metadata": {},
   "outputs": [],
   "source": []
  },
  {
   "cell_type": "markdown",
   "metadata": {},
   "source": [
    "### Bonus #2\n",
    "\n",
    "Filter out the non-single-states (e.g., `'California, Colorado'`) in the most elegant way possible (i.e., *not* by blacklisting all the bad values)."
   ]
  },
  {
   "cell_type": "code",
   "execution_count": null,
   "metadata": {},
   "outputs": [],
   "source": []
  },
  {
   "cell_type": "markdown",
   "metadata": {},
   "source": [
    "### Bonus #3\n",
    "\n",
    "Show the quantiles instead of just minimum, mean, and maximum―say 0%, 5%, 25%, 50%, 75%, 95%, and 100%. Outliers may be deceiving.\n",
    "\n",
    "Sort by whatever interests you―like say the *50th* percentile.\n",
    "\n",
    "And throw in a count by state too. It would be interesting to know how many data points contribute to the figures for each state. (*Hint: your nice formatting from Bonus #1 might not work this time around.* 😜)"
   ]
  },
  {
   "cell_type": "code",
   "execution_count": null,
   "metadata": {},
   "outputs": [],
   "source": []
  }
 ],
 "metadata": {
  "kernelspec": {
   "display_name": "Python 3",
   "language": "python",
   "name": "python3"
  },
  "language_info": {
   "codemirror_mode": {
    "name": "ipython",
    "version": 3
   },
   "file_extension": ".py",
   "mimetype": "text/x-python",
   "name": "python",
   "nbconvert_exporter": "python",
   "pygments_lexer": "ipython3",
   "version": "3.13.7"
  }
 },
 "nbformat": 4,
 "nbformat_minor": 2
}
